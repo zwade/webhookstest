{
 "metadata": {
  "name": "",
  "signature": "sha256:b076b4458db8b2b15905e79bb79d855e792c7ff2be037e1bf711b763040f5f4e"
 },
 "nbformat": 3,
 "nbformat_minor": 0,
 "worksheets": [
  {
   "cells": [
    {
     "cell_type": "code",
     "collapsed": false,
     "input": [
      "for i in [0,3,5,6,7,8,8]:\n",
      "    print i"
     ],
     "language": "python",
     "metadata": {},
     "outputs": []
    },
    {
     "cell_type": "code",
     "collapsed": false,
     "input": [
      "for z in range(20):\n",
      "    print z"
     ],
     "language": "python",
     "metadata": {},
     "outputs": []
    },
    {
     "cell_type": "markdown",
     "metadata": {},
     "source": []
    }
   ],
   "metadata": {}
  }
 ]
}