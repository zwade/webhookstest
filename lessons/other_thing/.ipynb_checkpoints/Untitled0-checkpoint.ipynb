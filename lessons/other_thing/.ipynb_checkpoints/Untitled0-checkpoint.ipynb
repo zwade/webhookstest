{
 "metadata": {
  "name": "",
  "signature": "sha256:4a2edefe13e35c58ce29855f0be3f01a30485f6671ed2de2534ca8b664f8b49b"
 },
 "nbformat": 3,
 "nbformat_minor": 0,
 "worksheets": [
  {
   "cells": [
    {
     "cell_type": "code",
     "collapsed": false,
     "input": [
      "for i in [1,2,3,4,5,6]:\n",
      "    print i"
     ],
     "language": "python",
     "metadata": {},
     "outputs": []
    },
    {
     "cell_type": "code",
     "collapsed": false,
     "input": [
      "print 'mwahaha'\n",
      "print \"muahaha\""
     ],
     "language": "python",
     "metadata": {},
     "outputs": []
    }
   ],
   "metadata": {}
  }
 ]
}