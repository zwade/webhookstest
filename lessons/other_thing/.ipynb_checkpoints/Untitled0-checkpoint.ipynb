{
 "metadata": {
  "name": "",
  "signature": "sha256:edcb2db40fce916fb23c3dca5c78e7a07270e1808761ec55481f8fcfd3c12c38"
 },
 "nbformat": 3,
 "nbformat_minor": 0,
 "worksheets": [
  {
   "cells": [
    {
     "cell_type": "code",
     "collapsed": false,
     "input": [
      "for i in [1,2,3,4,5,6]:\n",
      "    print i"
     ],
     "language": "python",
     "metadata": {},
     "outputs": []
    },
    {
     "cell_type": "code",
     "collapsed": false,
     "input": [
      "print 'mwahaha'\n",
      "print \"muahaha\"\n",
      "print \"finally\"\n",
      "print \"almost?\""
     ],
     "language": "python",
     "metadata": {},
     "outputs": []
    }
   ],
   "metadata": {}
  }
 ]
}