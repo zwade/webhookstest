{
 "metadata": {
  "name": "",
  "signature": "sha256:edcb2db40fce916fb23c3dca5c78e7a07270e1808761ec55481f8fcfd3c12c38"
 },
 "nbformat": 3,
 "nbformat_minor": 0,
 "worksheets": [
  {
   "cells": [
    {
     "cell_type": "code",
     "collapsed": false,
     "input": [
      "for i in [1,2,3,4,5,6]:\n",
      "    print i"
     ],
     "language": "python",
     "metadata": {},
     "outputs": [
      {
       "output_type": "stream",
       "prompt_number": 1,
       "stream": "stdout",
       "text": [
        "1\n",
        "2\n",
        "3\n",
        "4\n",
        "5\n",
        "6\n"
       ]
      }
     ],
     "prompt_number": 1
    },
    {
     "cell_type": "code",
     "collapsed": false,
     "input": [
      "print 'mwahaha'\n",
      "print \"muahaha\"\n",
      "print \"finally\"\n",
      "print \"almost?\""
     ],
     "language": "python",
     "metadata": {},
     "outputs": [
      {
       "output_type": "stream",
       "prompt_number": 2,
       "stream": "stdout",
       "text": [
        "mwahaha\n",
        "muahaha\n",
        "finally\n",
        "almost?\n"
       ]
      }
     ],
     "prompt_number": 2
    }
   ],
   "metadata": {}
  }
 ]
}