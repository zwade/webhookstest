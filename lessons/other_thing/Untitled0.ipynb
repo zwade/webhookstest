{
 "metadata": {
  "name": "",
  "signature": "sha256:bc3dd8b43829cf467b4e9ad3ffb07acecb13e5ae82295a624ca16b054b64ed84"
 },
 "nbformat": 3,
 "nbformat_minor": 0,
 "worksheets": [
  {
   "cells": [
    {
     "cell_type": "code",
     "collapsed": false,
     "input": [
      "for i in [1,2,3,4,5,6]:\n",
      "    print i"
     ],
     "language": "python",
     "metadata": {},
     "outputs": []
    }
   ],
   "metadata": {}
  }
 ]
}