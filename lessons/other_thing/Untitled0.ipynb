{
 "metadata": {
  "name": "",
  "signature": "sha256:69ca2e20283fdac8f798cd7856cbfd8dc9fa8cbff28f0cb38b10850544b76fcc"
 },
 "nbformat": 3,
 "nbformat_minor": 0,
 "worksheets": [
  {
   "cells": [
    {
     "cell_type": "code",
     "collapsed": false,
     "input": [
      "for i in [1,2,3,4,5,6]:\n",
      "    print i"
     ],
     "language": "python",
     "metadata": {},
     "outputs": []
    },
    {
     "cell_type": "code",
     "collapsed": false,
     "input": [
      "print 'mwahaha'\n",
      "print \"muahaha\"\n",
      "print \"finally\""
     ],
     "language": "python",
     "metadata": {},
     "outputs": []
    }
   ],
   "metadata": {}
  }
 ]
}